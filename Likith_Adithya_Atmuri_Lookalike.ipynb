{
 "cells": [
  {
   "cell_type": "code",
   "execution_count": 3,
   "metadata": {},
   "outputs": [],
   "source": [
    "import pandas as pd\n",
    "from sklearn.metrics.pairwise import cosine_similarity\n",
    "from sklearn.preprocessing import StandardScaler\n",
    "import numpy as np\n"
   ]
  },
  {
   "cell_type": "code",
   "execution_count": 4,
   "metadata": {},
   "outputs": [],
   "source": [
    "\n",
    "# Load datasets\n",
    "customers = pd.read_csv('Customers.csv')\n",
    "products = pd.read_csv('Products.csv')\n",
    "transactions = pd.read_csv('Transactions.csv')\n",
    "\n"
   ]
  },
  {
   "cell_type": "code",
   "execution_count": 6,
   "metadata": {},
   "outputs": [],
   "source": [
    "customers['SignupDate'] = pd.to_datetime(customers['SignupDate'])\n",
    "transactions['TransactionDate'] = pd.to_datetime(transactions['TransactionDate'])\n",
    "\n",
    "\n",
    "merged_data = transactions.merge(customers, on='CustomerID').merge(products, on='ProductID')\n",
    "\n"
   ]
  },
  {
   "cell_type": "code",
   "execution_count": 7,
   "metadata": {},
   "outputs": [],
   "source": [
    "\n",
    "\n",
    "# Aggregate transaction data for each customer\n",
    "customer_features = merged_data.groupby('CustomerID').agg({\n",
    "    'TotalValue': 'sum',              # Total revenue\n",
    "    'Quantity': 'sum',                # Total quantity purchased\n",
    "    'ProductID': lambda x: x.nunique(),  # Number of unique products purchased\n",
    "    'Category': lambda x: x.nunique()   # Number of unique categories purchased\n",
    "}).reset_index()\n",
    "\n",
    "customer_features.rename(columns={\n",
    "    'TotalValue': 'TotalRevenue',\n",
    "    'Quantity': 'TotalQuantity',\n",
    "    'ProductID': 'UniqueProducts',\n",
    "    'Category': 'UniqueCategories'\n",
    "}, inplace=True)\n",
    "\n",
    "\n",
    "customer_profiles = pd.merge(customer_features, customers[['CustomerID', 'Region']], on='CustomerID')\n",
    "\n",
    "# One-hot encode of  Region column\n",
    "customer_profiles = pd.get_dummies(customer_profiles, columns=['Region'], drop_first=True)\n",
    "\n",
    "# Normalize transaction data\n",
    "scaler = StandardScaler()\n",
    "customer_profiles_normalized = scaler.fit_transform(customer_profiles.drop('CustomerID',axis=1))\n",
    "\n",
    "\n",
    "# Calculate Cosine Similarity between customer profiles\n",
    "similarity_matrix = cosine_similarity(customer_profiles_normalized)\n",
    "\n",
    "# Create a DataFrame for the similarity matrix\n",
    "similarity_df = pd.DataFrame(similarity_matrix, index=customer_profiles['CustomerID'], columns=customer_profiles['CustomerID'])\n",
    "\n",
    "# Function to get top 3 similar customers\n",
    "def get_top_3_similar(customers_df, customer_id):\n",
    "    # Sort the similarity scores in descending order\n",
    "    similar_customers = customers_df[customer_id].sort_values(ascending=False)[1:4]\n",
    "    return [(index, score) for index, score in similar_customers.items()]\n",
    "\n",
    "# Generate lookalikes for CustomerID C0001 to C0020\n",
    "lookalike_results = {}\n",
    "\n",
    "# Use actual CustomerIDs from the dataset\n",
    "customer_ids = customer_profiles['CustomerID'][:20]  # Get the first 20 CustomerIDs\n",
    "\n",
    "for customer_id in customer_ids:\n",
    "    lookalike_results[customer_id] = get_top_3_similar(similarity_df, customer_id)\n",
    "\n",
    "# Convert the lookalike results to a DataFrame\n",
    "lookalike_df = pd.DataFrame([\n",
    "    {'CustomerID': customer, 'LookalikeID': lookalike[0], 'Score': lookalike[1]}\n",
    "    for customer, lookalikes in lookalike_results.items()\n",
    "    for lookalike in lookalikes\n",
    "])\n",
    "\n"
   ]
  },
  {
   "cell_type": "code",
   "execution_count": 9,
   "metadata": {},
   "outputs": [
    {
     "name": "stdout",
     "output_type": "stream",
     "text": [
      "Average Similarity Score for Top 3 Recommendations: 0.9634\n",
      "Recommendation Coverage: 100.00%\n"
     ]
    }
   ],
   "source": [
    "# Save results as to Lookalike.csv\n",
    "lookalike_df.to_csv('Likith_Adithya_Atmuri_Lookalike.csv', index=False)\n",
    "\n",
    "# Evaluate Model Accuracy and Quality\n",
    "\n",
    "# 1. Average similarity score \n",
    "average_similarity = lookalike_df['Score'].mean()\n",
    "\n",
    "# 2. Coverage of recommendations (percentage of customers with recommendations)\n",
    "coverage = (lookalike_df['CustomerID'].nunique() / len(customer_ids)) * 100\n",
    "\n",
    "# Print metrics\n",
    "print(f\"Average Similarity Score for Top 3 Recommendations: {average_similarity:.4f}\")\n",
    "print(f\"Recommendation Coverage: {coverage:.2f}%\")\n"
   ]
  }
 ],
 "metadata": {
  "kernelspec": {
   "display_name": "Python 3",
   "language": "python",
   "name": "python3"
  },
  "language_info": {
   "codemirror_mode": {
    "name": "ipython",
    "version": 3
   },
   "file_extension": ".py",
   "mimetype": "text/x-python",
   "name": "python",
   "nbconvert_exporter": "python",
   "pygments_lexer": "ipython3",
   "version": "3.11.7"
  }
 },
 "nbformat": 4,
 "nbformat_minor": 2
}
